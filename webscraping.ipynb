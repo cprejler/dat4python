{
 "cells": [
  {
   "cell_type": "code",
   "execution_count": 2,
   "metadata": {
    "tags": []
   },
   "outputs": [
    {
     "output_type": "stream",
     "name": "stdout",
     "text": "[&lt;h3 class=&quot;spot-content__title&quot;&gt;00&#39;erne&lt;/h3&gt;, &lt;h3 class=&quot;spot-content__title&quot;&gt;24 fortællinger om Händels Messias&lt;/h3&gt;, &lt;h3 class=&quot;spot-content__title&quot;&gt;24 lysende stjerner fra 10&#39;erne&lt;/h3&gt;, &lt;h3 class=&quot;spot-content__title&quot;&gt;24 musikudtryk ifølge P2 - podcast&lt;/h3&gt;, &lt;h3 class=&quot;spot-content__title&quot;&gt;2GOBOG&lt;/h3&gt;, &lt;h3 class=&quot;spot-content__title&quot;&gt;2% tilbage&lt;/h3&gt;, &lt;h3 class=&quot;spot-content__title&quot;&gt;365 fra P8 JAZZ - Maraton&lt;/h3&gt;, &lt;h3 class=&quot;spot-content__title&quot;&gt;365 på P6 BEAT&lt;/h3&gt;, &lt;h3 class=&quot;spot-content__title&quot;&gt;365 på P7 MIX&lt;/h3&gt;, &lt;h3 class=&quot;spot-content__title&quot;&gt;45 omdrejninger&lt;/h3&gt;, &lt;h3 class=&quot;spot-content__title&quot;&gt;4. division&lt;/h3&gt;, &lt;h3 class=&quot;spot-content__title&quot;&gt;90&#39;ernes helte: Tyggegummipoppen&lt;/h3&gt;, &lt;h3 class=&quot;spot-content__title&quot;&gt;Absolute Absolute Music&lt;/h3&gt;, &lt;h3 class=&quot;spot-content__title&quot;&gt;Adam Holm i Syrien&lt;/h3&gt;, &lt;h3 class=&quot;spot-content__title&quot;&gt;Afslag på et kys&lt;/h3&gt;, &lt;h3 class=&quot;spot-content__title&quot;&gt;Aftenland&lt;/h3&gt;]\n00&#39;erne\n24 fortællinger om Händels Messias\n24 lysende stjerner fra 10&#39;erne\n24 musikudtryk ifølge P2 - podcast\n2GOBOG\n2% tilbage\n365 fra P8 JAZZ - Maraton\n365 på P6 BEAT\n365 på P7 MIX\n45 omdrejninger\n4. division\n90&#39;ernes helte: Tyggegummipoppen\nAbsolute Absolute Music\nAdam Holm i Syrien\nAfslag på et kys\nAftenland\n"
    }
   ],
   "source": [
    "#Use BeautifulSoup to extract all titles on all radio programs https://www.dr.dk/radio/programmer\n",
    "\n",
    "import bs4\n",
    "import requests\n",
    "html = requests.get('https://www.dr.dk/radio/programmer')\n",
    "txt = html.text\n",
    "soup = bs4.BeautifulSoup(txt, 'html.parser')\n",
    "\n",
    "spot = soup.select('.spot-content__title')\n",
    "print(spot)\n",
    "for item in spot:\n",
    "    print(item.getText())\n",
    "\n"
   ]
  },
  {
   "cell_type": "code",
   "execution_count": 1,
   "metadata": {
    "tags": []
   },
   "outputs": [
    {
     "output_type": "stream",
     "name": "stdout",
     "text": "Page: 1\n00&#39;erne\n24 fortællinger om Händels Messias\n24 lysende stjerner fra 10&#39;erne\n24 musikudtryk ifølge P2 - podcast\n2GOBOG\n2% tilbage\n365 fra P8 JAZZ - Maraton\n365 på P6 BEAT\n365 på P7 MIX\n45 omdrejninger\n4. division\n90&#39;ernes helte: Tyggegummipoppen\nAbsolute Absolute Music\nAdam Holm i Syrien\nAfslag på et kys\nAftenland\n\n\nPage: 2\nAlbum\nAl den Jazz med Mikael Simpson\nAlex Riel 80 år\nAllan Gravgaard Madsens natlige skaberværk\nAlphabeat\nAlt om Emma - en serie om MDMA\nAmadeus\nAsta og Frede\nAudiens\nAusfahrt\nBadabing\nBaggers Bedrifter\nBaggården\nBagklog på P1\nBaglandet\nBalkans knuste hjerte\n\n\nPage: 3\nBallademager\nBandet på P6 BEAT\nBarometeret\nBAS\nBassen på P6 BEAT\nBattle of Britpop\nBeat Bitches\nBeethoven 250 År\nBeethovens 9 symfonier ifølge Kristian Leth\nBeethovens Strygekvartetter ifølge Kristian Leth\nBergman og musikken\nBestjålet af hjemmehjælperen\nBesøgstid\nBilradio\nBinge - med Frederik og Kasper\nBlackout - pigen på billedet\n\n\nPage: 4\nBliver jeg skør?\nBlod, sved og skabertrang\nBlå piger\nBogselskabet\nBomben i Søllerødgade\nBravo - med Lotte Heise\nBreak Beat\nBrinkmann på P1\nBrinkmanns briks\nBruce Springsteen - Born to run\nBrunchparlamentet\nBrun Kartoffel\nBuffeten på P3\nBørnelokkeren\nBørn taler ud\nCarl Nielsens liv, lyst, last og længsel\n\n\nPage: 5\nCarsten Jensen i krise\nCecilie og sorgen\nCilius Patruljen\nCurlingklubben\nDagdrømmer\nDagens Danmark\nDanmark Live\nDanmarks dræber #1 - med Peter Falktoft\nDanmarkshistorien set fra toget\nDanmark til VM\nDanskerbingo\nDanskernes akademi på P1\nDanskervinklen\nDansktoppen\nDansktoppens Gyldne År\nDa Trump næsten kom til Danmark\n\n\nPage: 6\nDavid og Maria bytter liv - highlights\nDe bagkloge nyheder\nDe bedste klaverkomponister\nDebut\nDecemberkøkken\nDe første skridt\nDe højere magter\nDe konstruktive nyheder\nDe kontroversielle\nDen daglige dosis\nDen forsvundne soldat\nDen første gang på P6 BEAT\nDen grusomme mand\nDen Nordiske Odyssé\nDen nye stil - historien om dansk rap\nDen nødvendige refleksion\n\n\nPage: 7\nDen orgasmiske fødsel\nDen røde tråd\nDen sandsynlige morder\nDen sidste modstandsmand\nDen sorte boks\nDen Store Poptur\nDen uperfekte mor\nDerfor elsker vi opera\nDe rigtige 90&#39;ere\nDe Sorte Spejdere - podcast\nDe tabte traditioner\nDet bedste fra Dansktoppens gyldne år\nDet bedste på P3\nDet du frygter\nDetektor\nDet Forenede Kongerige\n\n\nPage: 8\nDet fælles bedste\nDet ganske lille band\nDet gode selskab\nDet Gode Sommerselskab\nDet man hører, er man selv\nDet perfekte offer\nDet perfekte offer II\nDet Tomme Magasin\nDe unge dirigenter - podcast\nDigitalt\nDin historie - podcast\nDiscodrønet\nDissing - fra bluessanger til folkekær troubadour\nDiva &amp; Dario\nDivaerne\nDjævlen i detaljen\n\n\nPage: 9\nDM i Wonderwall med Danskerbingo og Curlingklubben\nDobbeltmordet\nDobbelt op med Keld Heick\nDobbelt op med Kirsten Siggaard\nDomino\nDommedag aflyst\nDronekrigeren\nDroner og kanoner\nDronningens Sønderjylland\nDR Romanklubbens podcast\nDR Romanprisen 2012\nDR Romanprisen 2013\nDR Romanprisen 2014\nDR Romanprisen 2017\nDR Romanprisen 2018\nDR Romanprisen 2019\n\n\nPage: 10\nDR Romanprisen 2020\nDRs Romanpris 2015\nDRs Romanpris 2016\nDræb for Danmark\nDrømme fra bunden\nDrømmenes Kaptajn\nDværgen og kæmpen\nEdderkoppehøgen\nEfter festen\nEfterforskerne\nEfterklange af Niels W. Gade\nEks&#39;er for evigt\nEldorado\nEliten fra minefeltet\nElsker dig for evigt\nEndnu en jul med Poul Nesgaard\n\n\nPage: 11\nEn forfatter flytter ind\nEn kongelig stund\nEn rødvinsplettet barndom\nEr der brev fra Villy?\nEr der liv på Venus?\nEt langsomt mord\nFaking News!\nFamilie før alt\nFar, der er noget vi skal tale om\nFarlige toner - historien om dansk jazz\nFarrock på P6 BEAT\nFarvel til 10&#39;erne\nFarvel til de folkevalgte\nFeature\nFede fagbøger - med Adam Holm\nFesten med Povlsen &amp; Holm\n\n\nPage: 12\nFestival Tapes\nFezten på P6 BEAT\nFilmharmonikerne\nFilmland\nFind Cookiemonsteret\nFjeldgænger\nFlugten fra folkeskolen\nFolkestrejken 1944\nFONK! Det er lørdag\nFONK! Det er podcast\nForbudte møder\nForelsket i Jazz\nFormiddag med Simpson\nFormiddag på 4&#39;eren\nForsiden af medaljen\nFra A til B - med Anders Bisgaard\n\n\nPage: 13\nFra Skotland til Skjern\nFredagsscenen LIVE på P8 med unge jazzkometer\nFrigørelsens tyranni?\nFrygt - Live fra Christchurch\nFædregruppen\nFølg pengene\nFør Torsdagskoncerten\nGamers\nGandhi - myten om det gode?\nGehør - Rachmaninov med Cilius og Hammer\nGemt i mørket\nGenstart - DR&#39;s nyhedspodcast\nGidselforhandleren\nGiro 413\nGo&#39; Morgen P3\nGrammofon\n\n\nPage: 14\nGudstjeneste på P1\nHagekors over Danmark\nHallo Far\nHammer og Cilius\nHavet venter\nHej P2\nHenrik og pladepusherne\nHithouse\nHit med historien\nHit på Hit\nHjernekassen på P1\nH.K.H Prins Henrik 1934 - 2018\nHoffmeyer, Anett &amp; Partners\nHotellet\nHvad nu hvis...? Historien på vrangen med Adam Holm\nHvad skal vi med konger?\n\n\nPage: 15\nHvem er...\nHvorfor har jeg ikke en kæreste?\nHåndbold på DR\nHøje hæle og store beslutninger\nIda Skjerk på P3\nI helvedes forgård\nIkonet ingen husker\nI korsets tegn\nIllustreret Sport\nI min lomme ligger en sten\nInternational julemusikdag på P2\nI planetens tjeneste\nI røven af...\nI virkeligheden\nJacob Ege Grinchelys kulturkanon\nJagten på vogn 144\n\n\nPage: 16\nJazz&amp;Bøger\nJazz &amp; Co\nJAZZcruise\nJazzgryden\nJazzklubben\nJazzmosfæren med Master Fatman\nJazzoom\nJazz på vinyl med Hugo Rasmussen\nJazz Top 50\nJeg er nøgen\nJeg tilspørger dig\nJensens Musikservice\nJordforbindelsen der forsvandt\nJulies Jukebox\nKejser\nKierkegaard på egen krop\n\n\nPage: 17\nKim Larsen Mindeudsendelse på P4\nKim Larsen Mindeudsendelse på P5\nKinddans\nKlassikere Genfortalt I\nKlassikere genfortalt III\nKlassiske legender\nKlassisk Morgenmusik\nKlassisk Top 50\nKlassisk Top 50 Den danske sang\nKlassisk Top 50 Filmmusik\nKlassisk Top 50 Kor\nKlassisk Top 50 Musical\nKlassisk top 50 Opera\nKlik\nKlimatestamentet\nKlindt &amp; Søn\n\n\nPage: 18\nKlog på Sprog\nKnas på P8 JAZZ\nKnust Kværn og kvæstet\nKoncertaften på P2\nKoncert på P8 JAZZ\nKonfetti\nKoplevs køkken\nKoranskolen på P1\nKorfix og Kaffe\nKorrespondenternes klub\nKortsluttet\nKrig og klassisk - med Lotte Heise\nKristian Leth og outsideren\nKristian Leth og outsideren - Podcast\nKrop og bevægelse\nKulten\n\n\nPage: 19\nKulturen på P1\nKun et menneske\nKun fjeldene står evigt\nKvart i 9 med Frankie\nKvartlivskrisen\nKvinde kend din POP\nKvinderne på kvisten\nKærlighed i karantæne\nKødkrigen\nLars, Mette og Magten\nLate Night Love med Bobby Jones\nLea og Nomis store drøm\nLeonard Cohen - Closing Time\nLIGA\nLine Kirsten Giftekniv\nLivebeatet\n\n\nPage: 20\nLive fra Højskolesangbogen\nLottomysteriet\nLudermanifestet\nLyden af Danmarkshistorien\nLytterbreve fra ekkokammeret\nLæge søger grænser\nLænge leve albummet\nLøsladt\nMadsen\nMads &amp; Monopolet\nMads &amp; Monopolet - podcast\nMagasinet på P6 BEAT\nMalko Konkurrencen 2018\nManden, der blev stjålet\nManden i kælderhalsen\nManden på gletsjeren\n\n\nPage: 21\nManden uden skygge\nManderegler - med Emma Holten og Anders Haahr\nMands Minde foredrag: Birthe Rønn Hornbeck - Fra krigsbarn til folkevalgt\nMands Minde foredrag: Margrethe Auken - På cykel gennem seks årtier\nMands Minde foredrag: Peter Bastian - Gå aldrig ned fra scenen\nMands Minde foredrag: Uffe Ellemann-Jensen - Vejen jeg valgte\nMan stoler vel på præsten\nManualen ifølge Vidundergrunden\nManus manege\nMargrethe af Europa\nMathias vil også være et ikon\nMeget mere Matador\nMen du er her stadig\nMeningsministeriet\nMennesker og medier\nMennesker og tro\n\n\nPage: 22\nMer&#39; Monitor\nMichala Petri: For musikkens skyld\nMidsommer med DR PigeKoret\nMig &amp; Markus\nMig og Musikken\nMine smukke veninder\nMin forbandede stemme\nMin hemmelige krop\nMin kamp mod kræften - med Arne Notkin\nMin morfar, Færøerne og folkesjælen\nMin musikalske orgasme\nMin yndlingsmusik\nMit 68\nMIXTAPE - 100 procent dansk\nMIXTAPE - Fyr den med Fie Neergaard\nMIXTAPE - Headbang med Anders Bøtter\n\n\nPage: 23\nMIXTAPE - Indiemix med Mads Axelsen\nMIXTAPE - Klassiske Fornemmelser med Signe Amtoft\nMIXTAPE - Kærlighedsmusik\nMIXTAPE - Metalmotion med Anders Bøtter\nMIXTAPE - Musiksommer 2020\nMIXTAPE - Neonlyd med Fie Neergaard\nMIXTAPE - Ny musik\nMIXTAPE - Privatfest med Emil Lange\nMIXTAPE - På Bagsædet med Hav &amp; Kamal\nMIXTAPE - Rock Ud med Mattias Kolstrup\nMIXTAPE - Rolige Toner med Tilde Bang-Kristensen\nMIXTAPE - Selv Tak! med Emil Lange\nMIXTAPE - Soul for Sjælen med Andrew Moyo\nMIXTAPE - Tropisk Jazzfest med Jonas Visti\nMIXTAPE - Tættere på Himlen med Andrew Moyo\nMIXTAPE - vær.her.nu med Mads Axelsen\n\n\nPage: 24\nMIXTAPE - Årtiets bedste\nMod det uendelige univers\nMon Amie Complexe\nMonopolets julekalender \nMontage\nMontage\nMonte Carlo\nMorgenandagten\nMorgenbeatet\nMorgenklubben\nMother Teresa - myten om det gode?\nMusik i laboratoriet\nMusikken er et monster\nMusiklivet med Carsten Holm\nMusikpanelet\nMusikquizzen\n\n\nPage: 25\nMusikselskabet\nMusiksommer på P3 - tættere på musikken\nMusiktjenesten\nMænd der ødelægger kvinder\nMød Michala Petri - P2 Kunstner 2019\nNatsværmeren\nNattens dronning\nNaturen kalder\nNaturens Symfoni\nNayas Corner\nNeil Young - Dreamin&#39; Man\nNeonlys\nNoget om helte\nNordfronten\nNorsken, svensken og dansken\nNye Skiver på P8 JAZZ\n\n\nPage: 26\nNye skrivende\nNyheder fra Grønland\nNy lyd\nNår flygtningene er danske\nOm hundrede år - lydbog\nOprør for livet\nOprør på P5\nOrientering\nP1 Debat\nP1 Direkte\nP1 Direkte med Clement Kjersgaard\nP1 Dokumentar\nP1 Morgen\nP1 på plejehjem\nP1 redder verden\nP1 Videnskabsmøde\n\n\nPage: 27\nP2 anbefaler klassisk\nP2 fejrer\nP2 fejrer Messias\nP2 Guldkoncerten\nP2 Kammermusikkonkurrence\nP2 Koncerten\nP2 Morgenmusik\nP2 Operaaften\nP3 hylder Gramsespektrum\nP3 Morgen\nP3 Nyheder\nP4 Aften\nP4 Bornholm regionale nyheder\nP4 Eftermiddag Bornholm\nP4 Eftermiddag Fyn\nP4 Eftermiddag København\n\n\nPage: 28\nP4 Eftermiddag Nordjylland\nP4 Eftermiddag Sjælland\nP4 Eftermiddag Syd &amp; Esbjerg\nP4 Eftermiddag Trekanten\nP4 Eftermiddag Østjylland\nP4 Esbjerg regionale nyheder\nP4 Fyn regionale nyheder\nP4 Fyn Weekend\nP4 København regionale nyheder\nP4 Midt &amp; Vest Eftermiddag\nP4 Midt &amp; Vest regionale nyheder\nP4 Morgen Bornholm\nP4 Morgen Fyn\nP4 Morgen København\nP4 Morgen Midt &amp; Vest\nP4 Morgen Nordjylland\n\n\nPage: 29\nP4 Morgen Sjælland\nP4 Morgen Syd\nP4 Morgen Trekanten\nP4 Morgen Østjylland\nP4 Nordjylland regionale nyheder\nP4 Play\nP4&#39;serne\nP4 Sjælland regionale nyheder\nP4 Syd regionale nyheder\nP4 Trekanten regionale nyheder\nP4 Weekend Bornholm\nP4 Weekend København\nP4 Weekend Midt &amp; Vest\nP4 Weekend Nordjylland\nP4 Weekend Sjælland\nP4 Weekend Syd &amp; Esbjerg\n\n\nPage: 30\nP4 Weekend Trekanten\nP4 Weekend Østjylland\nP4 Østjylland regionale nyheder\nP5 Aften\nP5 med Charlotte Mørck\nP5 Morgen\nP6 Beat City\nP6 BEAT elsker\nP6 BEAT for begyndere\nP6 BEAT husker Jan Sneum\nP6 BEAT med Henrik Aagaard\nP6 BEAT med Jonas Hansen\nP6 BEAT med Mads Gundersen\nP6 BEAT med Robert Haugsted\nP6 BEAT på Northside\nP6 BEAT United\n\n\nPage: 31\nP6 Beef\nP7 MIX Maraton - podcast\nP7 MIX møder\nP7 MIX præsenterer\nP8 Jazz ALive\nP8 Koncerten\nPanorama\nParagraffen på P3\nPaul McCartney - 75 år på toppen af poppen\nPelle Peter på P3\nPelle Peters Panel\nPilgrim - på rejse i troens univers\nPing Pong\nPippi for voksne\nPlakatmafiaen - kampen om bymuren\nPop Op\n\n\nPage: 32\nPostrøverens historie\nPovlsen &amp; Holm\nPressemøde\nProtest på P6 BEAT\nPublic Service\nPuk og Suzanne i Syrien\nPå Bagsædet - med Hav &amp; Kamal\nPå hovedet i et album\nPå opdagelse\nPå opdagelse i Carl Nielsens symfonier\nPå operatur med Lotte Heise\nPå samfundets bund\nPåstand mod påstand\nRadioavisen\nRadiobiografen\nRadiofestival\n\n\nPage: 33\nRadiofortællinger\nRadioklassikeren\nRadio Rødgrød\nRecept\nRejsen til det fremmede\nReklametjenesten\nRevet\nRing til Naturen Live\nRing til Reformationen\nRing til regeringen\nRosenkjærprisen\nRygtet siger\nRystelsen\nSammen om sorgen\nSandhedsmagasinet\nSange fra min bogreol\n\n\nPage: 34\nSangenes Blå Bog\nSangskriver\nSelskabsrejsen\nSelvmordstanker med Mikkel Frey Damgaard\nSelv Tak\nSe mig, like mig\nShitstorm\nSidste mand slukker lyset\nSig noget sjovt - historien om dansk stand-up\nSimpson &amp; Leth\nSkud i sneen\nSkyggesøster\nSkønhedskontrakten\nSkønlitteratur på P1\nSlotsholmen\nSmåborger\n\n\nPage: 35\nSnapdok Syrien\nSneums Garage\nSnooze\nSommerjazz Aarhus 2020\nSommerMorgen\nSommer på en søndag\nSort Søndag\nSovsen\nSpeditørens død - Mysteriet om Morten Nielsen\nSplittet til atomer\nStadion på P6 BEAT\nStafetten med Clement\nStatus på P6 BEAT\nStegelmanns score\nStentoft hyldest - interviews\n\n\nPage: 36\nStines gæster\nStines søndag\nStjerner og striber - Vejen mod Det Hvide Hus\nStudenterkørsel på P3\nStudie 5\nSupertanker\nSvenske tilstande\nSygt nok\nSymfoniorkesteret\nSådan husker vi Bent\nSådan kan du høre det er - Podcast\nSå Kom!\nSå vidt vi ved\nSøndag med Sara\nSøndagsklassikeren\nSøvnløs\n\n\nPage: 37\nTabu\nTake Off\nTal til mig\nTerroristerne\nTesten før festen\nThe Sound of Musical\nTidskapslen\nTidsånd\nTil fest med en morder\nTil minde om prins Henrik\nToner\nTouren på P3\nTrines mor\nTroldspejlet Podcast\nTrommer på P6 BEAT\nTræk stikket\n\n\nPage: 38\nTue og Tonys TV-Klub - Gift Ved Første Blik\nTværs\nTynd og glad?\nTys tys, vi er tyske\nTændt\nTæt på Tæt på sandheden\nTættere på himlen\nUbådssagen\nUden på P6 BEAT\nUdlandseventyret\nUgens gæst\nUhørt\nUlvelandet\nUnga Bunga!\nVejen mod mand\nVerden ifølge Gram\n\n\nPage: 39\nVerdens bedste lov\nVerdens bedste lyttere f*cker op\nVerdens bedste lyttere på date\nVerdenspressen\nVerdenssituationen\nVerdens venligste fængsel\nVidunderbørn\nVidundergrunden\nVidundergrunden &amp; Verden\nVildt Naturligt\nVi ringer, de spiller\nVis mig din sang, skat!\nVistis vinyler\nvær.her.nu på P6 BEAT\nWagners Ringen ifølge Kristian Leth\nWeekend med Bernhard\n\n\nPage: 40\nWeekend med Carsten Holm\nWeekend med K\nWeekendMorgen\nWeekendnarkoman\nWikibeats - dit radiofoniske musikleksikon\nWikibeats - podcast\nZissel og Eliten\nÆgte porno\nÆrligt talt - Shu-bi-duas historie fortalt af Michael Bundesen\n\n\n"
    }
   ],
   "source": [
    "#    First find how many pages there are\n",
    "#    Then find all titles on https://www.dr.dk/radio/programmer?side=1\n",
    "#    Then find all titles on all pages\n",
    "import bs4\n",
    "import requests\n",
    "def find_titles(_page):\n",
    "    page = str(_page)\n",
    "    html = requests.get('https://www.dr.dk/radio/programmer?side=' + str(page))\n",
    "    txt = html.text\n",
    "    print('Page: ' + page)\n",
    "    soup = bs4.BeautifulSoup(txt, 'html.parser')\n",
    "    \n",
    "    spot = soup.select('.spot-content__title')\n",
    "    \n",
    "    for item in spot:\n",
    "        print(item.getText())\n",
    "    print('\\n')\n",
    "\n",
    "for idx in range(1, 41):\n",
    "    find_titles(idx)\n",
    "\n"
   ]
  },
  {
   "cell_type": "code",
   "execution_count": null,
   "metadata": {},
   "outputs": [],
   "source": []
  },
  {
   "cell_type": "code",
   "execution_count": null,
   "metadata": {},
   "outputs": [],
   "source": []
  },
  {
   "cell_type": "code",
   "execution_count": null,
   "metadata": {},
   "outputs": [],
   "source": []
  }
 ],
 "metadata": {
  "kernelspec": {
   "name": "Python 3.8.5 64-bit ('base': conda)",
   "display_name": "Python 3.8.5 64-bit ('base': conda)",
   "metadata": {
    "interpreter": {
     "hash": "767d51c1340bd893661ea55ea3124f6de3c7a262a8b4abca0554b478b1e2ff90"
    }
   }
  },
  "language_info": {
   "codemirror_mode": {
    "name": "ipython",
    "version": 3
   },
   "file_extension": ".py",
   "mimetype": "text/x-python",
   "name": "python",
   "nbconvert_exporter": "python",
   "pygments_lexer": "ipython3",
   "version": "3.8.5-final"
  }
 },
 "nbformat": 4,
 "nbformat_minor": 4
}