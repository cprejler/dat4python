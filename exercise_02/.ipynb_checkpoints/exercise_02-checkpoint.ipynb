{
 "cells": [
  {
   "cell_type": "code",
   "execution_count": 9,
   "metadata": {},
   "outputs": [
    {
     "name": "stdout",
     "output_type": "stream",
     "text": [
      "['some text\\n', 'hello world\\n', 'this is an input file\\n']\n"
     ]
    }
   ],
   "source": [
    "#Exercise 1\n",
    "\n",
    "#Create a program that can take an input and an output file and write the content of the input file into a list,\n",
    "#the console or to the output file.\n",
    "\n",
    "inputFile =  open('inputfile.txt', 'r')\n",
    "\n",
    "output = inputFile.readlines()\n",
    "\n",
    "print(output)\n",
    "\n",
    "with open('outputfile.txt', 'w') as outputfile:\n",
    "    for line in output:\n",
    "        outputfile.write(line)\n",
    "\n",
    "\n",
    "    \n"
   ]
  },
  {
   "cell_type": "code",
   "execution_count": 1,
   "metadata": {},
   "outputs": [
    {
     "name": "stdout",
     "output_type": "stream",
     "text": [
      "['{\\n', '  \"shell_port\": 57235,\\n', '  \"iopub_port\": 54759,\\n', '  \"stdin_port\": 36039,\\n', '  \"control_port\": 38235,\\n', '  \"hb_port\": 49137,\\n', '  \"ip\": \"127.0.0.1\",\\n', '  \"key\": \"60d4e255-cea8a4043b48030feedc2cba\",\\n', '  \"transport\": \"tcp\",\\n', '  \"signature_scheme\": \"hmac-sha256\",\\n', '  \"kernel_name\": \"\"\\n', '}']\n"
     ]
    }
   ],
   "source": [
    "\n",
    "import argparse\n",
    "import csv\n",
    "import sys, getopt\n",
    "\n",
    "#create a helper function that gets an arbitrary number of strings instead of a list\n",
    "def convertStringsToList(string):\n",
    "    convertedList = string.split(' ')\n",
    "    return convertedList\n",
    "\n",
    "\n",
    "#def print_file_content(file) that can print content of a text file to the console\n",
    "def printFile(inputfile):\n",
    "    try:\n",
    "        with open(inputfile, 'r') as _inputfile:\n",
    "            output = _inputfile.readlines()\n",
    "            print(output)\n",
    "    except(FileNotFoundError):\n",
    "        print(\"File doesn't exist\")\n",
    "        \n",
    "#def write_list_to_file(output_file, lst) that can take a list or tuple and\n",
    "#write each element to a new line in file\n",
    "def writeListToFile(outputFile, lst):\n",
    "    try:\n",
    "        with open(outputFile, 'a') as _outputFile:\n",
    "            for item in lst:\n",
    "                _outputFile.write(item)\n",
    "            _outputFile.write('\\n')\n",
    "    except(FileNotFoundError):\n",
    "        print(\"File doesn't exist\")\n",
    "        \n",
    "#def read_file(input_file) that take a csv file and read each row into a list\n",
    "def readFile(inputFile):\n",
    "    try:\n",
    "        with open(inputfile, newline='') as csvFile:\n",
    "            reader = csv.reader(csvFile, delimeter=',')\n",
    "            for row in reader:\n",
    "                print(row)\n",
    "        \n",
    "    except(FileNotFoundError):\n",
    "        print(\"File doesn't exist\")\n",
    "    \n",
    "\n",
    "#Add a functionality so that the program can be called from cli with 2 arguments\n",
    "#path to input file\n",
    "#an argument --file file_name to be used as the output file to write to.\n",
    "#if only the input file is given write output to console\n",
    "#if the input file is given with a list of extra words add those words to the output (whether to file or console)\n",
    "#Add 'help' attributes to each cli argument to describe how the module is used \n",
    "\n",
    "# Initiate the parser\n",
    "parser = argparse.ArgumentParser()\n",
    "#parser.add_argument(\"-h\", \"--help\", help=\"This command prints the help\", action=\"store_true\")\n",
    "parser.add_argument(\"-f\", \"--file\", help=\"This command reads a file\")\n",
    "parser.add_argument(\"-w\", \"--words\", help=\"This command lets you append words to a file given with the -w parameter\")\n",
    "# Read arguments from the command line\n",
    "args = parser.parse_args()\n",
    "\n",
    "if args.file:\n",
    "    printFile(args.file)\n",
    "\n",
    "if args.file and args.words:\n",
    "    writeListToFile(args.file, args.words)\n",
    "    printFile(args.file)\n"
   ]
  },
  {
   "cell_type": "code",
   "execution_count": null,
   "metadata": {},
   "outputs": [],
   "source": []
  },
  {
   "cell_type": "code",
   "execution_count": null,
   "metadata": {},
   "outputs": [],
   "source": []
  }
 ],
 "metadata": {
  "kernelspec": {
   "display_name": "Python 3",
   "language": "python",
   "name": "python3"
  },
  "language_info": {
   "codemirror_mode": {
    "name": "ipython",
    "version": 3
   },
   "file_extension": ".py",
   "mimetype": "text/x-python",
   "name": "python",
   "nbconvert_exporter": "python",
   "pygments_lexer": "ipython3",
   "version": "3.8.5"
  }
 },
 "nbformat": 4,
 "nbformat_minor": 4
}
