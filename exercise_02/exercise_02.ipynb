{
 "cells": [
  {
   "cell_type": "code",
   "execution_count": 9,
   "metadata": {},
   "outputs": [
    {
     "name": "stdout",
     "output_type": "stream",
     "text": [
      "['some text\\n', 'hello world\\n', 'this is an input file\\n']\n"
     ]
    }
   ],
   "source": [
    "#Exercise 1\n",
    "\n",
    "#Create a program that can take an input and an output file and write the content of the input file into a list,\n",
    "#the console or to the output file.\n",
    "\n",
    "inputFile =  open('inputfile.txt', 'r')\n",
    "\n",
    "output = inputFile.readlines()\n",
    "\n",
    "print(output)\n",
    "\n",
    "with open('outputfile.txt', 'w') as outputfile:\n",
    "    for line in output:\n",
    "        outputfile.write(line)\n",
    "\n",
    "\n",
    "    \n"
   ]
  },
  {
   "cell_type": "code",
   "execution_count": 15,
   "metadata": {},
   "outputs": [
    {
     "name": "stdout",
     "output_type": "stream",
     "text": [
      "option -f not recognized\n"
     ]
    }
   ],
   "source": [
    "\n",
    "#Write a python file with 3 functions:\n",
    "\n",
    "\n",
    "\n",
    "#create a helper function that gets an arbitrary number of strings instead of a list\n",
    "\n",
    "def convertStringsToList(string):\n",
    "    convertedList = string.split(' ')\n",
    "    return convertedList\n",
    "\n",
    "\n",
    "\n",
    "import os\n",
    "#def print_file_content(file) that can print content of a text file to the console\n",
    "def printFile(file):\n",
    "    try:\n",
    "        _file = open(file, 'r')\n",
    "        print(_file.readlines())\n",
    "    except(FileNotFoundError):\n",
    "        print(\"File doesn't exist\")\n",
    "        \n",
    "    \n",
    "#def write_list_to_file(output_file, lst) that can take a list or tuple and\n",
    "#write each element to a new line in file\n",
    "def writeListToFile(outputFile, lst):\n",
    "    try:\n",
    "        with open(outputFile, 'w') as _outputFile:\n",
    "            for item in lst:\n",
    "                _outputFile.write(item)\n",
    "    except(FileNotFoundError):\n",
    "        print(\"File doesn't exist\")\n",
    "        \n",
    "#def read_file(input_file) that take a csv file and read each row into a list\n",
    "import csv\n",
    "def readFile(inputFile):\n",
    "    try:\n",
    "        with open(inputfile, newline='') as csvFile:\n",
    "            reader = csv.reader(csvFile, delimeter=',')\n",
    "            for row in reader:\n",
    "                print(row)\n",
    "        \n",
    "    except(FileNotFoundError):\n",
    "        print(\"File doesn't exist\")\n",
    "    \n",
    "\n",
    "    \n",
    "#Add a functionality so that the program can be called from cli with 2 arguments\n",
    "#path to input file\n",
    "#an argument --file file_name to be used as the output file to write to.\n",
    "#if only the input file is given write output to console\n",
    "#if the input file is given with a list of extra words add those words to the output (whether to file or console)\n",
    "#Add 'help' attributes to each cli argument to describe how the module is used \n",
    "\n",
    "import sys, getopt\n",
    "\n",
    "\n",
    "def main(argv):\n",
    "    \"\"\"First argument is the inputfile and 2nd argument is the outputfile\"\"\"\n",
    "    \n",
    "# Remove 1st argument from the \n",
    "# list of command line arguments \n",
    "argumentList = sys.argv[1:] \n",
    "  \n",
    "# Options \n",
    "options = \"hiw:\"\n",
    "  \n",
    "# Long options \n",
    "long_options = [\"Help\", \"File\", \"Words\"] \n",
    "  \n",
    "try: \n",
    "    # Parsing argument \n",
    "    arguments, values = getopt.getopt(argumentList, options, long_options) \n",
    "      \n",
    "    # checking each argument \n",
    "    for currentArgument, currentValue in arguments: \n",
    "  \n",
    "        if currentArgument in (\"-h\", \"--Help\"): \n",
    "            print (\"First argument 'i' is the file you want to read.\\n 2nd argument are any words you want added to the file\") \n",
    "              \n",
    "        elif currentArgument in (\"-i\", \"--inputfile\"): \n",
    "            print (\"Input file:\", sys.argv[0])\n",
    "            printFile(sys.argv[0])\n",
    "              \n",
    "        elif currentArgument in (\"-i\", \"--File\") and currentArgument in (\"-w\", \"--Words\"):\n",
    "                # get the words\n",
    "                extraWords = convertStringsToList(sys.argv[1])\n",
    "                writeListToFile(sys.argv[0], sys.argv[1])\n",
    "                \n",
    "             \n",
    "              \n",
    "except getopt.error as err: \n",
    "    # output error, and return with an error code \n",
    "    print (str(err)) \n",
    "\n",
    "    \n"
   ]
  },
  {
   "cell_type": "code",
   "execution_count": null,
   "metadata": {},
   "outputs": [],
   "source": []
  },
  {
   "cell_type": "code",
   "execution_count": null,
   "metadata": {},
   "outputs": [],
   "source": []
  }
 ],
 "metadata": {
  "kernelspec": {
   "display_name": "Python 3",
   "language": "python",
   "name": "python3"
  },
  "language_info": {
   "codemirror_mode": {
    "name": "ipython",
    "version": 3
   },
   "file_extension": ".py",
   "mimetype": "text/x-python",
   "name": "python",
   "nbconvert_exporter": "python",
   "pygments_lexer": "ipython3",
   "version": "3.8.5"
  }
 },
 "nbformat": 4,
 "nbformat_minor": 4
}
