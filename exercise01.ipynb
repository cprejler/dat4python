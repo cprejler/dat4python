{
 "cells": [
  {
   "cell_type": "code",
   "execution_count": 7,
   "metadata": {},
   "outputs": [],
   "source": [
    "#Create a 5 list comprehensions to solve the following 5 problems:\n",
    "\n",
    "#1A. Iterate a list of names to return a list of the names starting with H\n",
    "\n",
    "names = ['anders', 'hans', 'lasse', 'henrik', 'henriette', 'mette']\n",
    "\n",
    "name_cmp = [name for name in names if 'h' in name[0]]"
   ]
  },
  {
   "cell_type": "code",
   "execution_count": 5,
   "metadata": {},
   "outputs": [
    {
     "name": "stdout",
     "output_type": "stream",
     "text": [
      "['hans', 'henrik', 'henriette']\n"
     ]
    }
   ],
   "source": [
    "print(name_cmp)"
   ]
  },
  {
   "cell_type": "code",
   "execution_count": 14,
   "metadata": {},
   "outputs": [],
   "source": [
    "# In one line create a list of the numbers 1-100 to the power of 3\n",
    "\n",
    "#1C Iterate a list of names to create a list of tuples where the tuples first value is the length of the name and the second is the name\n",
    "\n",
    "tuple_cmp = [(name, len(name)) for name in names]\n"
   ]
  },
  {
   "cell_type": "code",
   "execution_count": 15,
   "metadata": {},
   "outputs": [
    {
     "name": "stdout",
     "output_type": "stream",
     "text": [
      "[('anders', 6), ('hans', 4), ('lasse', 5), ('henrik', 6), ('henriette', 9), ('mette', 5)]\n"
     ]
    }
   ],
   "source": [
    "print(tuple_cmp)"
   ]
  },
  {
   "cell_type": "code",
   "execution_count": 19,
   "metadata": {},
   "outputs": [
    {
     "name": "stdout",
     "output_type": "stream",
     "text": [
      "['2', '6', '0', '2', '9', '3', '7', '5']\n"
     ]
    }
   ],
   "source": [
    "#1D Iterate over each character in a string and get only those that are nummeric\n",
    "\n",
    "test_string = '2fghvc6k029ax375'\n",
    "\n",
    "str_nums = [char for char in test_string if char.isdigit()]\n",
    "\n",
    "print(str_nums)\n"
   ]
  },
  {
   "cell_type": "code",
   "execution_count": 25,
   "metadata": {},
   "outputs": [
    {
     "name": "stdout",
     "output_type": "stream",
     "text": [
      "36\n",
      "{(3, 4), (4, 3), (3, 1), (5, 4), (4, 6), (5, 1), (2, 2), (1, 6), (2, 5), (1, 3), (6, 2), (6, 5), (4, 2), (4, 5), (3, 3), (5, 6), (3, 6), (5, 3), (2, 4), (1, 2), (2, 1), (1, 5), (6, 1), (6, 4), (3, 2), (4, 1), (3, 5), (5, 2), (4, 4), (5, 5), (1, 1), (1, 4), (2, 3), (2, 6), (6, 6), (6, 3)}\n"
     ]
    }
   ],
   "source": [
    "#1E Using only a list comprehension wrapped in set() get all possible combination from throwing 2 dice (hint use 2 for loops in a single list comprehension)\n",
    "\n",
    "first_dice = [1,2,3,4,5,6]\n",
    "second_dice = [1,2,3,4,5,6]\n",
    "\n",
    "possible_combinations = {(d1, d2) for d1 in first_dice for d2 in second_dice }\n",
    "\n",
    "print(len(possible_combinations))\n",
    "print(possible_combinations)"
   ]
  },
  {
   "cell_type": "code",
   "execution_count": 31,
   "metadata": {},
   "outputs": [
    {
     "name": "stdout",
     "output_type": "stream",
     "text": [
      "{'anders': 6, 'hans': 4, 'lasse': 5, 'henrik': 6, 'henriette': 9, 'mette': 5}\n"
     ]
    }
   ],
   "source": [
    "#Create 2 dictionary comprehensions to solve the following:\n",
    "\n",
    "#2A Iterate a list of names and create a dictionary where key is the name and value is the length of the name\n",
    "\n",
    "dict_names = {value: len(value) for key, value in enumerate(names)}\n",
    "\n",
    "print(dict_names)\n",
    "\n",
    "#2B Iterate a list of numbers and create a dictionary with {key:value} being {number:squareroot_of_number}\n",
    "\n"
   ]
  },
  {
   "cell_type": "code",
   "execution_count": 33,
   "metadata": {},
   "outputs": [
    {
     "name": "stdout",
     "output_type": "stream",
     "text": [
      "{1: 1.0, 6: 2.449489742783178, 22: 4.69041575982343, 54: 7.3484692283495345, 13: 3.605551275463989, 127: 11.269427669584644, 34: 5.830951894845301, 78: 8.831760866327848, 96: 9.797958971132712, 83: 9.1104335791443, 8: 2.8284271247461903}\n"
     ]
    }
   ],
   "source": [
    "import math\n",
    "numbers = [1, 6, 22, 54, 13, 127, 34, 78, 96, 83, 8]\n",
    "\n",
    "square_dict = {value : math.sqrt(value) for key, value in enumerate(numbers)}\n",
    "\n",
    "print(square_dict)"
   ]
  },
  {
   "cell_type": "code",
   "execution_count": null,
   "metadata": {},
   "outputs": [],
   "source": []
  }
 ],
 "metadata": {
  "kernelspec": {
   "display_name": "Python 3",
   "language": "python",
   "name": "python3"
  },
  "language_info": {
   "codemirror_mode": {
    "name": "ipython",
    "version": 3
   },
   "file_extension": ".py",
   "mimetype": "text/x-python",
   "name": "python",
   "nbconvert_exporter": "python",
   "pygments_lexer": "ipython3",
   "version": "3.8.5"
  }
 },
 "nbformat": 4,
 "nbformat_minor": 4
}
